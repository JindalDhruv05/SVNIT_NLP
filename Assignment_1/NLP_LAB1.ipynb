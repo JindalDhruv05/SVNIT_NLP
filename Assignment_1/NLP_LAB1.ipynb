{
  "cells": [
    {
      "cell_type": "code",
      "execution_count": 1,
      "metadata": {
        "colab": {
          "base_uri": "https://localhost:8080/"
        },
        "id": "tZqUpe3kkJsm",
        "outputId": "d910fd0b-ddd0-4d74-9fbf-173a15820b20"
      },
      "outputs": [
        {
          "name": "stderr",
          "output_type": "stream",
          "text": [
            "c:\\Users\\dhruv\\Downloads\\NLP_SVNIT\\venv\\Lib\\site-packages\\tqdm\\auto.py:21: TqdmWarning: IProgress not found. Please update jupyter and ipywidgets. See https://ipywidgets.readthedocs.io/en/stable/user_install.html\n",
            "  from .autonotebook import tqdm as notebook_tqdm\n"
          ]
        }
      ],
      "source": [
        "from datasets import load_dataset\n",
        "\n",
        "# Load only hi-1.txt in streaming mode\n",
        "streamed_dataset = load_dataset(\n",
        "    \"text\",\n",
        "    data_files=\"https://huggingface.co/datasets/ai4bharat/IndicCorpV2/resolve/main/data/hi-1.txt\",\n",
        "    streaming=True\n",
        ")\n",
        "\n",
        "# Get the training split (default for text datasets)\n",
        "data = streamed_dataset['train']\n"
      ]
    },
    {
      "cell_type": "code",
      "execution_count": 2,
      "metadata": {
        "colab": {
          "base_uri": "https://localhost:8080/"
        },
        "id": "9q8NvI0ymKt3",
        "outputId": "be6a533c-ede3-48cc-d001-11354c6172b2"
      },
      "outputs": [
        {
          "name": "stdout",
          "output_type": "stream",
          "text": [
            "First 10 rows of the streamed dataset:\n",
            "{'text': 'लोगों को बिलों संबंधी सुविधा देना ही उनका काम'}\n",
            "{'text': ''}\n",
            "{'text': 'इनेलो 1987 में उस वक्त ऐसे ही दोराहे पर खड़ी थी, जब पूर्व उपप्रधानमंत्री देवीलाल ने अपने पुत्र ओमप्रकाश चौटाला को अपना राजनीतिक उत्तराधिकारी घोषित किया था। हालांकि तब पार्टी पर देवीलाल की मजबूत पकड़ के चलते पार्टी टूटने से बच गई थी। 1989 में देवीलाल केन्द्र की राजनीति में सक्रिय हो गए थे और उनके उपप्रधानमंत्री बनने के पश्चात् उनके तीन बेटों जगदीश सिंह, रणजीत सिंह और ओमप्रकाश चौटाला में से रणजीत और ओमप्रकाश के बीच हरियाणा में उनकी राजनीतिक विरासत को लेकर जंग शुरू हो गई थी। उन परिस्थितियों में देवीलाल ने कड़ा निर्णय लेते हुए पार्टी की बागडोर ओमप्रकाश चौटाला के हवाले कर दी थी, जिसके बाद रणजीत की बगावत का असर पार्टी, संगठन और उनकी सरकार पर भी पड़ा था। उस समय रणजीत की नाराजगी के चलते उनके समर्थन में कई कैबिनेट मंत्रियों ने इस्तीफे दे दिए थे किन्तु तब पार्टी सुप्रीमो चौ. देवीलाल की हरियाणा की जनता पर इतनी मजबूत पकड़ थी कि ओमप्रकाश चौटाला को उत्तराधिकारी बनाने के उनके फैसले का जनता के बीच कोई खास विरोध नहीं हुआ था लेकिन आज स्थिति बिल्कुल विपरीत है। ओमप्रकाश चौटाला पिछले काफी समय से जेल में हैं और जेल में रहते पार्टी के साथ-साथ परिवार पर भी उनकी पकड़ काफी ढ़ीली हो गई है, इसी कारण उनमें अब देवीलाल जैसा वो सामर्थ्य नजर नहीं आता कि वे अपने फैसलों को बगैर किसी प्रतिरोध के लागू करा सकें।'}\n",
            "{'text': ''}\n",
            "{'text': 'जहां आई थी तबाही उस घाटी क्षेत्र में खतरा ज्यादा'}\n",
            "{'text': ''}\n",
            "{'text': 'इसके बाद केंद्र की ओर से प्रदेश सरकार को पीएमजीएसवाई में 200 करोड़ रुपये की राशि उपलब्ध करा दी गई। भाजपा के मीडिया प्रभारी दिवाकर सिंह ने शनिवार को बताया कि केंद्र ने प्रदेश सरकार को 200 करोड़ रुपये भेजा है।'}\n",
            "{'text': ''}\n",
            "{'text': 'यह पूछने पर कि इस बड़े मैच से पहले उनकी नींद गायब हुई तो बाबर ने कहा, \"हम काफी टूर्नामेंट खेल चुके हैं, हमने चैम्पियंस ट्राफी में भी अच्छा किया था. हम इसे जितना सरल रखेंगे, उतना ही बेहतर होगा. इसमें सिर्फ बेसिक्स पर अडिग रहना होगा और साथ ही शांत चित्त बने रहना होगा. हमारी तैयारी हमारे हाथों में हैं और हमने अपना शत प्रतिशत दिया है. हमें मैच के दिन अच्छी क्रिकेट खेलने की उम्मीद है.\"'}\n",
            "{'text': ''}\n"
          ]
        }
      ],
      "source": [
        "# Iterate through the first few rows of the streamed dataset\n",
        "print(\"First 10 rows of the streamed dataset:\")\n",
        "for i, row in enumerate(data):\n",
        "    if i >= 10:\n",
        "        break\n",
        "    print(row)"
      ]
    },
    {
      "cell_type": "code",
      "execution_count": 3,
      "metadata": {
        "id": "r_cioV8NkVdO"
      },
      "outputs": [],
      "source": [
        "import re\n",
        "\n",
        "# Regex for special patterns\n",
        "URL_PATTERN = r\"https?://\\S+|www\\.\\S+\"\n",
        "EMAIL_PATTERN = r\"\\b[\\w\\.-]+?@\\w+?\\.\\w+?\\b\"\n",
        "DECIMAL_PATTERN = r\"\\b\\d+\\.\\d+\\b\"\n",
        "DATE_PATTERN = r\"\\b\\d{1,2}[-/]\\d{1,2}[-/]\\d{2,4}\\b\"\n",
        "\n",
        "# Unicode ranges\n",
        "DEVANAGARI_WORD_PATTERN = r\"[\\u0900-\\u097F]+\"\n",
        "ENGLISH_WORD_PATTERN = r\"[a-zA-Z0-9]+\"\n",
        "PUNCTUATION_PATTERN = r\"[^\\w\\s\\u0900-\\u097F]\"\n",
        "\n",
        "# Sentence tokenizer: split at । ! ? followed by space\n",
        "def sentence_tokenize(text):\n",
        "    return re.split(r'(?<=[।!?])\\s+', text.strip())\n",
        "\n",
        "# Word tokenizer: special tokens + Devanagari words + punctuation\n",
        "def word_tokenize(text):\n",
        "    special_tokens = re.findall(f\"{EMAIL_PATTERN}|{URL_PATTERN}|{DATE_PATTERN}|{DECIMAL_PATTERN}\", text)\n",
        "\n",
        "    # Remove special tokens to avoid duplication\n",
        "    temp_text = text\n",
        "    for token in special_tokens:\n",
        "        temp_text = temp_text.replace(token, \"\")\n",
        "\n",
        "    tokens = re.findall(\n",
        "        f\"{DEVANAGARI_WORD_PATTERN}|{ENGLISH_WORD_PATTERN}|{PUNCTUATION_PATTERN}\",\n",
        "        temp_text\n",
        "    )\n",
        "    return special_tokens + tokens\n"
      ]
    },
    {
      "cell_type": "code",
      "execution_count": 4,
      "metadata": {
        "id": "oiP11f0plxU9"
      },
      "outputs": [],
      "source": [
        "# Output file\n",
        "output_file = \"tokenized_hi_1_1000.txt\"\n",
        "\n",
        "# Stats counters\n",
        "total_sentences = 0\n",
        "total_words = 0\n",
        "total_chars = 0\n",
        "unique_tokens = set()\n",
        "\n",
        "# Process first 1000 rows\n",
        "with open(output_file, \"w\", encoding=\"utf-8\") as f:\n",
        "    for i, sample in enumerate(data):\n",
        "        if i >= 1000:\n",
        "            break\n",
        "\n",
        "        paragraph = sample['text']\n",
        "        if not paragraph.strip():\n",
        "            continue\n",
        "\n",
        "        # Sentence and word tokenization\n",
        "        sentences = sentence_tokenize(paragraph)\n",
        "        total_sentences += len(sentences)\n",
        "\n",
        "        for sentence in sentences:\n",
        "            tokens = word_tokenize(sentence)\n",
        "            total_words += len(tokens)\n",
        "            total_chars += sum(len(token) for token in tokens)\n",
        "            unique_tokens.update(tokens)\n",
        "\n",
        "            # Write sentence tokens to file\n",
        "            f.write(\" \".join(tokens) + \"\\n\")\n",
        "            # for word in tokens:\n",
        "            #   f.write(word + \"\\n\")\n"
      ]
    },
    {
      "cell_type": "code",
      "execution_count": 5,
      "metadata": {
        "colab": {
          "base_uri": "https://localhost:8080/"
        },
        "id": "J-B3dVZWqLta",
        "outputId": "a86a34c2-675a-47d3-8923-402c5ea3161c"
      },
      "outputs": [
        {
          "name": "stdout",
          "output_type": "stream",
          "text": [
            "✅ Processed 1000 rows from hi-1.txt\n",
            "📊 Corpus Statistics:\n",
            "Total sentences: 1466\n",
            "Total words: 33152\n",
            "Total characters: 126918\n",
            "Average sentence length: 22.61 words\n",
            "Average word length: 3.83 characters\n",
            "Type/Token Ratio (TTR): 0.2104\n"
          ]
        }
      ],
      "source": [
        "# Compute metrics\n",
        "avg_sentence_length = total_words / total_sentences if total_sentences else 0\n",
        "avg_word_length = total_chars / total_words if total_words else 0\n",
        "ttr = len(unique_tokens) / total_words if total_words else 0\n",
        "\n",
        "# Print stats\n",
        "print(\"✅ Processed 1000 rows from hi-1.txt\")\n",
        "print(\"📊 Corpus Statistics:\")\n",
        "print(f\"Total sentences: {total_sentences}\")\n",
        "print(f\"Total words: {total_words}\")\n",
        "print(f\"Total characters: {total_chars}\")\n",
        "print(f\"Average sentence length: {avg_sentence_length:.2f} words\")\n",
        "print(f\"Average word length: {avg_word_length:.2f} characters\")\n",
        "print(f\"Type/Token Ratio (TTR): {ttr:.4f}\")\n"
      ]
    }
  ],
  "metadata": {
    "colab": {
      "provenance": []
    },
    "kernelspec": {
      "display_name": "venv (3.13.3)",
      "language": "python",
      "name": "python3"
    },
    "language_info": {
      "codemirror_mode": {
        "name": "ipython",
        "version": 3
      },
      "file_extension": ".py",
      "mimetype": "text/x-python",
      "name": "python",
      "nbconvert_exporter": "python",
      "pygments_lexer": "ipython3",
      "version": "3.13.3"
    }
  },
  "nbformat": 4,
  "nbformat_minor": 0
}
